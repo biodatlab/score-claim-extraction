{
  "nbformat": 4,
  "nbformat_minor": 0,
  "metadata": {
    "colab": {
      "provenance": [],
      "authorship_tag": "ABX9TyPZTZwS8gjAs1xdlDZvHwAF",
      "include_colab_link": true
    },
    "kernelspec": {
      "name": "python3",
      "display_name": "Python 3"
    },
    "language_info": {
      "name": "python"
    }
  },
  "cells": [
    {
      "cell_type": "markdown",
      "metadata": {
        "id": "view-in-github",
        "colab_type": "text"
      },
      "source": [
        "<a href=\"https://colab.research.google.com/github/biodatlab/score-claim-extraction/blob/main/Claim_Extraction_Gradio.ipynb\" target=\"_parent\"><img src=\"https://colab.research.google.com/assets/colab-badge.svg\" alt=\"Open In Colab\"/></a>"
      ]
    },
    {
      "cell_type": "markdown",
      "source": [
        "# Gradio App for Claim Extraction\n",
        "\n",
        "This notebook deploys a simple gradio app to perform claim extraction on an abstract using our model."
      ],
      "metadata": {
        "id": "HmMufAu3ADtN"
      }
    },
    {
      "cell_type": "code",
      "execution_count": null,
      "metadata": {
        "id": "B-8j999dIqBO"
      },
      "outputs": [],
      "source": [
        "!pip install gradio\n",
        "!pip install transformers==4.28.0"
      ]
    },
    {
      "cell_type": "code",
      "source": [
        "from transformers import AutoTokenizer\n",
        "from transformers import AutoModelForSequenceClassification\n",
        "import torch\n",
        "\n",
        "model_name = 'biodatlab/score-claim-identification'\n",
        "\n",
        "tokenizer = AutoTokenizer.from_pretrained(model_name)\n",
        "model = AutoModelForSequenceClassification.from_pretrained(model_name)\n",
        "\n",
        "def check_claim(line):\n",
        "  inputs = tokenizer(line, return_tensors='pt',truncation=True)\n",
        "  with torch.no_grad():\n",
        "    logits = model(**inputs).logits\n",
        "  predicted_class_id = logits.argmax().item()\n"
      ],
      "metadata": {
        "id": "P4h99zFJJtes"
      },
      "execution_count": null,
      "outputs": []
    },
    {
      "cell_type": "code",
      "source": [
        "def inference(abstract):\n",
        "  claims = []\n",
        "  lines = abstract.split('. ')\n",
        "  # for line in lines:\n",
        "  #   if check_claim(line):\n",
        "  #     return line\n",
        "  inputs = tokenizer(lines,return_tensors='pt',truncation=True,padding=\"longest\")\n",
        "  output = model(**inputs).logits\n",
        "  for (i,out) in enumerate(output):\n",
        "    pred = out.argmax().item()\n",
        "    if pred:\n",
        "      claims.append(lines[i])\n",
        "  if claims:\n",
        "    return '.\\n'.join(claims)\n",
        "  return 'No claims were made here'"
      ],
      "metadata": {
        "id": "TPHDn1pxJSY7"
      },
      "execution_count": null,
      "outputs": []
    },
    {
      "cell_type": "code",
      "source": [
        "abst = \"\"\"Research has shown that people often reinterpret their experiences of others' harm and suffering to maintain the functional belief that people get what they deserve (e.g., by blaming the victim). Rather than focusing on such reactive responses to harm and suffering, across 7 studies we examined whether people selectively and proactively choose to be exposed to information about deserved rather than undeserved outcomes. We consistently found that participants selectively chose to learn that bad (good) things happened to bad (good) people (Studies 1 to 7) that is, they selectively exposed themselves to deserved outcomes. This effect was mediated by the perceived deservingness of outcomes (Studies 2 and 3), and was reduced when participants learned that wrongdoers otherwise received \"just deserts\" for their transgressions (Study 7). Participants were not simply selectively avoiding information about undeserved outcomes but actively sought ihformation about deserved outcomes (Studies 3 and 4), and participants invested effort in this pattern of selective exposure, seeking out information about deserved outcomes even when it was more time-consuming to find than undeserved outcomes (Studies 5 and 6). Taken together, these findings cast light on a more proactive, anticipatory means by which people maintain a commitment to deservingness. (C) 2016 Elsevier Inc. All rights reserved.\"\"\"\n",
        "inference(abst)"
      ],
      "metadata": {
        "id": "XxGcFk5nhDgV"
      },
      "execution_count": null,
      "outputs": []
    },
    {
      "cell_type": "code",
      "source": [
        "import gradio as gr\n",
        "\n",
        "with gr.Blocks(theme=gr.themes.Soft()) as demo:\n",
        "    gr.Markdown(\"# Claim Identification\")\n",
        "    gr.Markdown(\"This demo finds claims made by an abstract.\")\n",
        "    abst = gr.Textbox(label=\"Abstract\")\n",
        "    greet_btn = gr.Button(\"Find Claims\")\n",
        "    output = gr.Textbox(label=\"Detected Claims\")\n",
        "    greet_btn.click(fn=inference, inputs=abst, outputs=output, api_name=\"inference\")\n",
        "    examples = gr.Examples(examples=[\"This study adopted a person (actor) by partner perspective to examine how actor personality traits, partner personality traits, and specific actor by partner personality trait interactions predict actor's depressive symptoms across the first 2years of the transition to parenthood. Data were collected from a large sample of new parents (both partners in each couple) 6weeks before the birth of their first child, and then at 6, 12, 18, and 24months postpartum. The results revealed that higher actor neuroticism and lower partner agreeableness predicted higher levels of depressive symptoms in actors. Moreover, the specific combination of high actor neuroticism and low partner agreeableness was a particularly problematic combination, which was intensified when prepartum dysfunctional problem-solving communication and aggression existed in the relationship. These results demonstrate the importance of considering certain actor by partner disposition pairings to better understand actors' emotional well-being during major life transitions.\"],inputs=[abst])\n",
        "\n",
        "demo.launch(share=True,debug=True)"
      ],
      "metadata": {
        "id": "FJHGDi8UIrzr"
      },
      "execution_count": null,
      "outputs": []
    }
  ]
}